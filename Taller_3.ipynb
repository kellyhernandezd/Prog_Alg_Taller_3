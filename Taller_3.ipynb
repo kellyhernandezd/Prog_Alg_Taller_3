{
  "nbformat": 4,
  "nbformat_minor": 0,
  "metadata": {
    "colab": {
      "provenance": [],
      "include_colab_link": true
    },
    "kernelspec": {
      "name": "python3",
      "display_name": "Python 3"
    },
    "language_info": {
      "name": "python"
    }
  },
  "cells": [
    {
      "cell_type": "markdown",
      "metadata": {
        "id": "view-in-github",
        "colab_type": "text"
      },
      "source": [
        "<a href=\"https://colab.research.google.com/github/kellyhernandezd/Prog_Alg_Taller_3/blob/main/Taller_3.ipynb\" target=\"_parent\"><img src=\"https://colab.research.google.com/assets/colab-badge.svg\" alt=\"Open In Colab\"/></a>"
      ]
    },
    {
      "cell_type": "markdown",
      "source": [
        "# Taller 1\n",
        "\n",
        "## Nombre: kelly Hernandez Diaz\n",
        "## ID: 000493245\n",
        "## Email: kelly.hernandezd@upb.edu.co"
      ],
      "metadata": {
        "id": "QPshiwJRQ4Bk"
      }
    },
    {
      "cell_type": "markdown",
      "source": [
        "# Problema 1\n",
        "\n",
        "### Calcular y mostrar la posición de una partículaque experimentamovimiento uniformemente acelerado a partir de su posición inicial(𝑥0), velocidad inicial(𝑣0)y aceleración(𝑎) en dos instantes de tiempo diferentes.La posición en un instante de tiempo está dada por:\n",
        "\n",
        "x = x0 - V0 * t +1 / 2 * a * t**2"
      ],
      "metadata": {
        "id": "H-aP3Cw_RFI1"
      }
    },
    {
      "cell_type": "code",
      "source": [
        "x0 = float(input(\"Posicion inicial: \"))\n",
        "v0 = float(input(\"Velocidad inicial: \"))\n",
        "a = float(input(\"Aceleración: \"))\n",
        "t1 = float(input(\"Primer instante de tiempo: \"))\n",
        "t2 = float(input(\"Segundo instante de tiempo: \"))\n",
        "\n",
        "x1 = x0 + v0 * t1 + 1 / 2 * a * t1**2\n",
        "x2 = x0 + v0 * t2 + 1 / 2 * a * t2**2\n",
        "\n",
        "print(\"Posición en el primer instante de tiempo\", x1)\n",
        "print(\"posición en el segundo instante de tiempo\", x2)"
      ],
      "metadata": {
        "colab": {
          "base_uri": "https://localhost:8080/"
        },
        "id": "m6fbs01zSkNE",
        "outputId": "b967bc66-6f47-4e33-c72e-a28126abfc68"
      },
      "execution_count": 1,
      "outputs": [
        {
          "output_type": "stream",
          "name": "stdout",
          "text": [
            "Posicion inicial: 5\n",
            "Velocidad inicial: 3\n",
            "Aceleración: 8\n",
            "Primer instante de tiempo: 12\n",
            "Segundo instante de tiempo: 25\n",
            "Posición en el primer instante de tiempo 617.0\n",
            "posición en el segundo instante de tiempo 2580.0\n"
          ]
        }
      ]
    },
    {
      "cell_type": "markdown",
      "source": [
        "# Problema 2\n",
        "\n",
        "### Calcular y mostrar la distancia entre dos puntos 𝑃1y 𝑃2ubicados en las coordenadas (𝑥1,𝑦1)y (𝑥2,𝑦2). La distancia euclidiana se calcula con la ecuación:\n",
        "\n",
        "d = ((x2 - x1)**2 + (y2 - y1)**2)**1 / 2\n",
        "\n",
        "\n"
      ],
      "metadata": {
        "id": "a6ksJcdMX2ND"
      }
    },
    {
      "cell_type": "code",
      "source": [
        "import math\n",
        "x1 = float(input(\"Ingrese la coordenada x de P1: \"))\n",
        "y1 = float(input(\"Ingrese la coordenada y de P1: \"))\n",
        "x2 = float(input(\"Ingrese la coordenada x de P2: \"))\n",
        "y2 = float(input(\"Ingrese la coordenada y de P2: \"))\n",
        "\n",
        "d =math.sqrt((x2 - x1)**2 + (y2 - y1)**2)\n",
        "\n",
        "print(\"La distancia entre los puntos P1 y P2 es:\", d)"
      ],
      "metadata": {
        "colab": {
          "base_uri": "https://localhost:8080/"
        },
        "id": "1BJs71tjWIl9",
        "outputId": "fe2b06b7-d693-4d26-ae71-ded72204a918"
      },
      "execution_count": 2,
      "outputs": [
        {
          "output_type": "stream",
          "name": "stdout",
          "text": [
            "Ingrese la coordenada x de P1: 16\n",
            "Ingrese la coordenada y de P1: 23\n",
            "Ingrese la coordenada x de P2: 4\n",
            "Ingrese la coordenada y de P2: 6\n",
            "La distancia entre los puntos P1 y P2 es: 20.808652046684813\n"
          ]
        }
      ]
    },
    {
      "cell_type": "markdown",
      "source": [
        "# Problema 3\n",
        "\n",
        "### Calcular y mostrarel valor del volumen de un cilindro cuyo radio y altura sean ingresados por el usuario. El volumen de un cilindro está dado por:\n",
        "\n",
        "v = pi * r ** 2 * h"
      ],
      "metadata": {
        "id": "qHgNkB1Roe7Z"
      }
    },
    {
      "cell_type": "code",
      "source": [
        "pi = 3.141592\n",
        "r = float(input(\"Ingrese el radio del cilindro: \"))\n",
        "h = float(input(\"Ingrese la altura del cilindro: \"))\n",
        "\n",
        "v = pi * (r ** 2) * h\n",
        "\n",
        "print(\"El volumen del cilindro es:\", v)"
      ],
      "metadata": {
        "colab": {
          "base_uri": "https://localhost:8080/"
        },
        "id": "t3ydRCinvCiL",
        "outputId": "a83da0f0-14b3-4bdd-d352-17ab57595825"
      },
      "execution_count": 3,
      "outputs": [
        {
          "output_type": "stream",
          "name": "stdout",
          "text": [
            "Ingrese el radio del cilindro: 3\n",
            "Ingrese la altura del cilindro: 5\n",
            "El volumen del cilindro es: 141.37164\n"
          ]
        }
      ]
    },
    {
      "cell_type": "markdown",
      "source": [
        "# Problema 4\n",
        "\n",
        "### Calcular y mostrarel resultado de las siguientes operaciones lógicas:\n",
        "\n",
        "####1.A > B y B > D\n",
        "####2.B <=C o C < D\n",
        "####3.A = B y B > C\n",
        "####4.A < C o B < C\n",
        "####5.A + D < Cy B > 5\n",
        "####6.D – C >= -A * B\n",
        "####7.D * C == 5 o C * A > 9\n",
        "####8.A * B + C > -D * 10"
      ],
      "metadata": {
        "id": "AeCP-lNpxFyi"
      }
    },
    {
      "cell_type": "code",
      "source": [
        "a = 15.5\n",
        "b = 10.5\n",
        "c = 12.5\n",
        "d = 8.5\n",
        "\n",
        "respuesta_1 = a > b and b > d\n",
        "print(\"Respuesta 1:\", respuesta_1)\n",
        "\n",
        "respuesta_2 = b <= c or c < d\n",
        "print(\" Respuesta 2:\", respuesta_2)\n",
        "\n",
        "respuesta_3 = a == b and b > c\n",
        "print(\"Respuesta 3:\", respuesta_3)\n",
        "\n",
        "respuesta_4 = a < c or b < c\n",
        "print(\"Respuesta 4:\", respuesta_4)\n",
        "\n",
        "respuesta_5 = a + d < c and b > 5\n",
        "print(\"Respuesta 5:\", respuesta_5)\n",
        "\n",
        "respuesta_6 = d - c >= -a * b\n",
        "print(\"Respuesta 6:\", respuesta_6)\n",
        "\n",
        "respuesta_7 = d * c == 5 or c * a > 9\n",
        "print(\"Respuesta 7:\", respuesta_7)\n",
        "\n",
        "respuesta_8 = a * b + c > -d * 10\n",
        "print(\"Respuesta 8:\", respuesta_8)"
      ],
      "metadata": {
        "colab": {
          "base_uri": "https://localhost:8080/"
        },
        "id": "TDAJhXrMyOth",
        "outputId": "bdfc82fd-f8a9-4e3d-c42d-19e85fd97acb"
      },
      "execution_count": 4,
      "outputs": [
        {
          "output_type": "stream",
          "name": "stdout",
          "text": [
            "Respuesta 1: True\n",
            " Respuesta 2: True\n",
            "Respuesta 3: False\n",
            "Respuesta 4: True\n",
            "Respuesta 5: False\n",
            "Respuesta 6: True\n",
            "Respuesta 7: True\n",
            "Respuesta 8: True\n"
          ]
        }
      ]
    },
    {
      "cell_type": "code",
      "source": [],
      "metadata": {
        "id": "cRYS-RRP3_P8"
      },
      "execution_count": null,
      "outputs": []
    }
  ]
}